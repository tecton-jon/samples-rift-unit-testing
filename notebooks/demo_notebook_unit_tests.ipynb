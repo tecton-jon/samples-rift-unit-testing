{
 "cells": [
  {
   "cell_type": "markdown",
   "metadata": {},
   "source": [
    "# Custom Demo: Ride Hire Example With Unit Testing\n",
    "\n",
    "A custom demo based on Snowflake and Stream Ingest API"
   ]
  },
  {
   "cell_type": "markdown",
   "metadata": {},
   "source": [
    "## Notebook Setup\n",
    "Configure Notebook Snowflake connection"
   ]
  },
  {
   "cell_type": "code",
   "execution_count": null,
   "metadata": {},
   "outputs": [],
   "source": [
    "from dotenv import load_dotenv\n",
    "\n",
    "# Load the environment variables from the .env file (requires python-dotenv)\n",
    "load_dotenv()"
   ]
  },
  {
   "cell_type": "code",
   "execution_count": null,
   "metadata": {},
   "outputs": [],
   "source": [
    "# Import Tecton and other libraries\n",
    "import logging\n",
    "import os\n",
    "import snowflake.connector\n",
    "import tecton\n",
    "\n",
    "logging.getLogger('snowflake.connector').setLevel(logging.WARNING)\n",
    "logging.getLogger('snowflake.snowpark').setLevel(logging.WARNING)\n",
    "\n",
    "connection_parameters = {\n",
    "    \"user\": os.environ['SNOWFLAKE_USER'],\n",
    "    \"password\": os.environ['SNOWFLAKE_PASSWORD'],\n",
    "    \"account\": os.environ['SNOWFLAKE_ACCOUNT'],\n",
    "    \"role\": os.environ['SNOWFLAKE_ROLE'],\n",
    "    \"warehouse\": os.environ['SNOWFLAKE_WAREHOUSE'],\n",
    "    \"database\": os.environ['SNOWFLAKE_DATABASE'],\n",
    "    \"schema\": os.environ['SNOWFLAKE_SCHEMA']\n",
    "}\n",
    "\n",
    "conn = snowflake.connector.connect(**connection_parameters)\n",
    "tecton.snowflake_context.set_connection(conn)\n",
    "tecton.conf.set(\"TECTON_OFFLINE_RETRIEVAL_COMPUTE_MODE\", \"rift\")\n",
    "\n",
    "# Quick helper function to query snowflake from a notebook\n",
    "def query_snowflake(query):\n",
    "    df = conn.cursor().execute(query).fetch_pandas_all()\n",
    "    return df\n",
    "\n",
    "tecton.version.summary()\n",
    "query_snowflake(\"SELECT CURRENT_USER(), CURRENT_ROLE(), CURRENT_WAREHOUSE(), CURRENT_DATABASE()\")"
   ]
  },
  {
   "cell_type": "markdown",
   "metadata": {},
   "source": [
    "## Import the Tecton SDK into your notebook\n",
    "\n",
    "You can use the Tecton SDK to interact with Tecton, develop, test and deploy new features, as well as generating offline training data and testing the online path.\n",
    "\n"
   ]
  },
  {
   "cell_type": "code",
   "execution_count": null,
   "metadata": {},
   "outputs": [],
   "source": [
    "import tecton\n",
    "tecton.version.summary()\n",
    "tecton.who_am_i()\n",
    "tecton.set_validation_mode(\"auto\")\n",
    "\n",
    "ws = tecton.get_workspace('jon-unit-testing')"
   ]
  },
  {
   "cell_type": "markdown",
   "metadata": {},
   "source": [
    "## Data Source Candidates\n",
    "\n",
    "Example data source(s) to be used for testing."
   ]
  },
  {
   "cell_type": "code",
   "execution_count": null,
   "metadata": {},
   "outputs": [],
   "source": [
    "from datetime import datetime, timedelta, timezone\n",
    "\n",
    "start = datetime(2024, 4, 1, 8)\n",
    "end = datetime(2024, 4, 4, 10, 0, 1)\n",
    "\n",
    "orders_snowflake_batch_source = ws.get_data_source('orders_snowflake_batch_source')\n",
    "orders_snowflake_batch_source.get_dataframe(start_time=start, end_time=end).to_pandas()"
   ]
  },
  {
   "cell_type": "markdown",
   "metadata": {},
   "source": [
    "## Feature View Candidates\n",
    "\n",
    "Example Feature View(s) to be used for testing."
   ]
  },
  {
   "cell_type": "markdown",
   "metadata": {},
   "source": [
    "### Batch Feature View Example"
   ]
  },
  {
   "cell_type": "code",
   "execution_count": null,
   "metadata": {},
   "outputs": [],
   "source": [
    "import pandas as pd\n",
    "input_pandas_df = pd.DataFrame(\n",
    "    {\n",
    "        \"ORDER_CREATED\": [datetime(2024, 5, 10), datetime(2024, 5, 11), datetime(2024, 5, 12)],\n",
    "        \"ORDER_ID\": [\"ORD-001\", \"ORD-002\", \"ORD-003\"],\n",
    "        \"REQUESTER_ID\": [\"REQ-001\", \"REQ-001\", \"REQ-002\"],\n",
    "        \"PAYMENT_AMOUNT\": [42.42, 55.42, 100.00],\n",
    "    }\n",
    ")\n",
    "input_pandas_df"
   ]
  },
  {
   "cell_type": "code",
   "execution_count": null,
   "metadata": {},
   "outputs": [],
   "source": [
    "events_df = pd.DataFrame(\n",
    "    {\n",
    "        \"REQUESTER_ID\": [\"REQ-001\", \"REQ-001\", \"REQ-002\"],\n",
    "        \"ORDER_CREATED\": [datetime(2024, 5, 12), datetime(2024, 5, 13), datetime(2024, 5, 14)],\n",
    "    }\n",
    ")\n",
    "events_df"
   ]
  },
  {
   "cell_type": "code",
   "execution_count": null,
   "metadata": {},
   "outputs": [],
   "source": [
    "requester_order_batch_metrics = ws.get_feature_view('requester_orders_batch_metrics')\n",
    "output_df = requester_order_batch_metrics.get_features_for_events(\n",
    "        events_df, mock_inputs={\"orders\": input_pandas_df}, from_source=True\n",
    ").to_pandas()\n",
    "output_df"
   ]
  },
  {
   "cell_type": "code",
   "execution_count": null,
   "metadata": {},
   "outputs": [],
   "source": [
    "expected_df = pd.DataFrame({\n",
    "    'REQUESTER_ID': ['REQ-001', 'REQ-001', 'REQ-002'],\n",
    "    'ORDER_CREATED': ['2024-05-12', '2024-05-13', '2024-05-14'],\n",
    "    'requester_order_batch_metrics__ORDER_ID_count_30d_1d': [2, 2, 1],\n",
    "    'requester_order_batch_metrics__PAYMENT_AMOUNT_mean_30d_1d': [48.92, 48.92, 100.00]\n",
    "})\n",
    "expected_df"
   ]
  },
  {
   "cell_type": "markdown",
   "metadata": {},
   "source": [
    "### On-Demand Feature View Example"
   ]
  },
  {
   "cell_type": "code",
   "execution_count": null,
   "metadata": {},
   "outputs": [],
   "source": [
    "input_dict = {\n",
    "    'orders_stream_metrics': {\n",
    "        'PICKUP_LATITUDE_last_30d_continuous': 34.0522,\n",
    "        'PICKUP_LONGITUDE_last_30d_continuous': -118.2437,\n",
    "        'DROPOFF_LATITUDE_last_30d_continuous': 36.7783,\n",
    "        'DROPOFF_LONGITUDE_last_30d_continuous': -119.4179\n",
    "    }\n",
    "}\n",
    "input_dict"
   ]
  },
  {
   "cell_type": "code",
   "execution_count": null,
   "metadata": {},
   "outputs": [],
   "source": [
    "calculate_distance = requester_order_batch_metrics = ws.get_feature_view('calculate_distance')\n",
    "output_df = calculate_distance.run_transformation(input_data=input_dict)\n",
    "output_df\n"
   ]
  },
  {
   "cell_type": "markdown",
   "metadata": {},
   "source": [
    "## Unit Testing\n",
    "\n",
    "Tecton supports running local unit tests. Unit tests can be defined in feature repositories in file paths matching the pattern **/tests/*.py.\n",
    "\n",
    "Tests can be run when the following commands are executed:\n",
    "\n",
    "- tecton apply: Runs the tests and applies the repo if the tests pass.\n",
    "\n",
    "- tecton plan: Runs the tests and shows the changes that would be made to the repo if the changes were applied.\n",
    "\n",
    "- tecton test: Runs the tests, only.\n",
    "\n",
    "Please refer to the following for examples:\n",
    "\n",
    "- data_sources/tests/test_orders_snowflake_batch_source.py\n",
    "\n",
    "- feature_views/tests/test_requester_orders_batch_metrics.py\n",
    "\n",
    "- feature_views/tests/test_calculate_distance.py"
   ]
  }
 ],
 "metadata": {
  "kernelspec": {
   "display_name": "base",
   "language": "python",
   "name": "python3"
  },
  "language_info": {
   "codemirror_mode": {
    "name": "ipython",
    "version": 3
   },
   "file_extension": ".py",
   "mimetype": "text/x-python",
   "name": "python",
   "nbconvert_exporter": "python",
   "pygments_lexer": "ipython3",
   "version": "3.10.13"
  }
 },
 "nbformat": 4,
 "nbformat_minor": 2
}
